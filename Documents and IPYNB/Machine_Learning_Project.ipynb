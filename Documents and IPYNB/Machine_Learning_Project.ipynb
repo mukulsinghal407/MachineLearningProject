{
  "nbformat": 4,
  "nbformat_minor": 0,
  "metadata": {
    "colab": {
      "provenance": [],
      "collapsed_sections": []
    },
    "kernelspec": {
      "name": "python3",
      "display_name": "Python 3"
    },
    "language_info": {
      "name": "python"
    }
  },
  "cells": [
    {
      "cell_type": "markdown",
      "source": [
        "#DataPreprocessing and Final Dataframe production\n"
      ],
      "metadata": {
        "id": "0HQtf4Pl9PoP"
      }
    },
    {
      "cell_type": "markdown",
      "source": [
        "## Importing the required modules\n"
      ],
      "metadata": {
        "id": "GIkLSsfdoGDD"
      }
    },
    {
      "cell_type": "code",
      "execution_count": null,
      "metadata": {
        "id": "HUyvgTOUrj_Q"
      },
      "outputs": [],
      "source": [
        "import pandas as pd"
      ]
    },
    {
      "cell_type": "markdown",
      "source": [
        "##Reading the required csv files one of the responses and other of character traits of the user.\n",
        "\n",
        "\n"
      ],
      "metadata": {
        "id": "J1kzS1gRoQsR"
      }
    },
    {
      "cell_type": "code",
      "source": [
        "df = pd.read_csv('responses.csv')"
      ],
      "metadata": {
        "id": "25HhN8o0r6MO"
      },
      "execution_count": null,
      "outputs": []
    },
    {
      "cell_type": "code",
      "source": [
        "physical_appearance = pd.read_csv('personality3.csv')"
      ],
      "metadata": {
        "id": "lcet4WCamrIN"
      },
      "execution_count": null,
      "outputs": []
    },
    {
      "cell_type": "code",
      "source": [
        "final_personality = pd.read_csv('final_seperate_personality.csv')"
      ],
      "metadata": {
        "id": "lWqjdRVDvomq"
      },
      "execution_count": null,
      "outputs": []
    },
    {
      "cell_type": "markdown",
      "source": [
        "##Fine-tuning data "
      ],
      "metadata": {
        "id": "SLhA_kkFobiz"
      }
    },
    {
      "cell_type": "code",
      "source": [
        "df = df.drop(['Timestamp'],axis=1)\n",
        "df = df.replace('COE,CSE,CSBS','COE')\n",
        "df = df.replace('ENC,EEC,ECE and similar','ECE')\n",
        "df = df.replace('ENC,EEC,ECE','ECE')\n",
        "df = df.replace('BME,BT','BME')\n",
        "df = df.replace('MEC,CIE','MEC')"
      ],
      "metadata": {
        "id": "AU9ABA3NsESj"
      },
      "execution_count": null,
      "outputs": []
    },
    {
      "cell_type": "code",
      "source": [
        "df.rename(columns = {'Select your favourite movie from below.':'Movie'}, inplace = True)"
      ],
      "metadata": {
        "id": "SCgBahqQ4veu"
      },
      "execution_count": null,
      "outputs": []
    },
    {
      "cell_type": "code",
      "source": [
        "df.insert(9, \"Characters\", '0', True)"
      ],
      "metadata": {
        "id": "LwWq9T1Mtd7V"
      },
      "execution_count": null,
      "outputs": []
    },
    {
      "cell_type": "code",
      "source": [
        "characters = df.iloc[:,2:]"
      ],
      "metadata": {
        "id": "leEliIeXvbQG"
      },
      "execution_count": null,
      "outputs": []
    },
    {
      "cell_type": "code",
      "source": [
        "for i in range(characters.shape[0]):\n",
        "  for column in characters.drop(['Characters'],axis=1).columns:\n",
        "    if str(characters.iloc[i][column]) != \"nan\":\n",
        "      characters.iloc[i]['Characters'] = characters.iloc[i][column]\n",
        "      break"
      ],
      "metadata": {
        "id": "KH-J89sv0sPG"
      },
      "execution_count": null,
      "outputs": []
    },
    {
      "cell_type": "code",
      "source": [
        "final_characters = characters['Characters']\n",
        "for k in characters.columns:\n",
        "  df = df.drop([k],axis=1)\n",
        "df['Characters'] = final_characters"
      ],
      "metadata": {
        "id": "UDksmnXk6NPZ"
      },
      "execution_count": null,
      "outputs": []
    },
    {
      "cell_type": "code",
      "source": [
        "final_personality = final_personality.fillna('none')"
      ],
      "metadata": {
        "id": "X4uv09-czStZ"
      },
      "execution_count": null,
      "outputs": []
    },
    {
      "cell_type": "markdown",
      "source": [
        "##Assigning appearances to each entry depending on the character(s) chosen"
      ],
      "metadata": {
        "id": "JHEawJz0o-eI"
      }
    },
    {
      "cell_type": "code",
      "source": [
        "appearance = []\n",
        "for characters in df['Characters']:\n",
        "  if len(characters.split(';'))>1:\n",
        "    temp = []\n",
        "    for character in characters.split(';'):\n",
        "      character = character.strip()\n",
        "      temp.append(physical_appearance.iloc[list(physical_appearance['Character']).index(character)][1])\n",
        "    final_text = \" \"\n",
        "    for k in temp:\n",
        "      for word in k.split(','):\n",
        "        final_text += word.strip() + ','\n",
        "    appearance.append(final_text[:-1])\n",
        "  else:\n",
        "    for character in characters.split(';'):\n",
        "      character = character.strip()\n",
        "      appearance.append(physical_appearance.iloc[list(physical_appearance['Character']).index(character)][1])"
      ],
      "metadata": {
        "id": "IYuMap1W9uy4"
      },
      "execution_count": null,
      "outputs": []
    },
    {
      "cell_type": "code",
      "source": [
        "df['Appearance']=appearance"
      ],
      "metadata": {
        "id": "ci1qC-jfsSta"
      },
      "execution_count": null,
      "outputs": []
    },
    {
      "cell_type": "code",
      "source": [
        "df"
      ],
      "metadata": {
        "colab": {
          "base_uri": "https://localhost:8080/"
        },
        "id": "yOabUgResKMd",
        "outputId": "653dac44-9e6e-4342-8b16-7057f66ecd7f"
      },
      "execution_count": null,
      "outputs": [
        {
          "output_type": "execute_result",
          "data": {
            "text/plain": [
              "    Branch               Movie                           Characters  \\\n",
              "0      COE            Zootopia                           Chief Bogo   \n",
              "1      COE  Hotel Transylvania  Mavis;Jonathan;Frankenstien;Dracula   \n",
              "2      ECE          Inside Out                                Anger   \n",
              "3      ECE                  Up          Carl Fredricksen;Russel;Dug   \n",
              "4      COE          Inside Out                    Riley;Joy;Sadness   \n",
              "..     ...                 ...                                  ...   \n",
              "130    CHE               Shrek                         Shrek;Donkey   \n",
              "131    CHE               Shrek                         Shrek;Donkey   \n",
              "132    CHE               Shrek                         Shrek;Donkey   \n",
              "133    CHE               Shrek                         Shrek;Donkey   \n",
              "134    BME            Zootopia                Nick Wilde;Bellwether   \n",
              "\n",
              "                                            Appearance  \n",
              "0                    grey skin, black eye,wear glasses  \n",
              "1     fair skin,blue eyes,short black hair,fair ski...  \n",
              "2                   crimson skin, black eyes, red hair  \n",
              "3     fair skin,angular glasses,black eyes,white ha...  \n",
              "4     fair skin,blue eyes,dirty blonde hair,yellow ...  \n",
              "..                                                 ...  \n",
              "130   green skin,horns,balck eyes,grey skin,black m...  \n",
              "131   green skin,horns,balck eyes,grey skin,black m...  \n",
              "132   green skin,horns,balck eyes,grey skin,black m...  \n",
              "133   green skin,horns,balck eyes,grey skin,black m...  \n",
              "134   red skin,green eye,orange hair,white skin,red...  \n",
              "\n",
              "[135 rows x 4 columns]"
            ],
            "text/html": [
              "\n",
              "  <div id=\"df-dd188301-20e8-4975-b547-6ba5b7795d0e\">\n",
              "    <div class=\"colab-df-container\">\n",
              "      <div>\n",
              "<style scoped>\n",
              "    .dataframe tbody tr th:only-of-type {\n",
              "        vertical-align: middle;\n",
              "    }\n",
              "\n",
              "    .dataframe tbody tr th {\n",
              "        vertical-align: top;\n",
              "    }\n",
              "\n",
              "    .dataframe thead th {\n",
              "        text-align: right;\n",
              "    }\n",
              "</style>\n",
              "<table border=\"1\" class=\"dataframe\">\n",
              "  <thead>\n",
              "    <tr style=\"text-align: right;\">\n",
              "      <th></th>\n",
              "      <th>Branch</th>\n",
              "      <th>Movie</th>\n",
              "      <th>Characters</th>\n",
              "      <th>Appearance</th>\n",
              "    </tr>\n",
              "  </thead>\n",
              "  <tbody>\n",
              "    <tr>\n",
              "      <th>0</th>\n",
              "      <td>COE</td>\n",
              "      <td>Zootopia</td>\n",
              "      <td>Chief Bogo</td>\n",
              "      <td>grey skin, black eye,wear glasses</td>\n",
              "    </tr>\n",
              "    <tr>\n",
              "      <th>1</th>\n",
              "      <td>COE</td>\n",
              "      <td>Hotel Transylvania</td>\n",
              "      <td>Mavis;Jonathan;Frankenstien;Dracula</td>\n",
              "      <td>fair skin,blue eyes,short black hair,fair ski...</td>\n",
              "    </tr>\n",
              "    <tr>\n",
              "      <th>2</th>\n",
              "      <td>ECE</td>\n",
              "      <td>Inside Out</td>\n",
              "      <td>Anger</td>\n",
              "      <td>crimson skin, black eyes, red hair</td>\n",
              "    </tr>\n",
              "    <tr>\n",
              "      <th>3</th>\n",
              "      <td>ECE</td>\n",
              "      <td>Up</td>\n",
              "      <td>Carl Fredricksen;Russel;Dug</td>\n",
              "      <td>fair skin,angular glasses,black eyes,white ha...</td>\n",
              "    </tr>\n",
              "    <tr>\n",
              "      <th>4</th>\n",
              "      <td>COE</td>\n",
              "      <td>Inside Out</td>\n",
              "      <td>Riley;Joy;Sadness</td>\n",
              "      <td>fair skin,blue eyes,dirty blonde hair,yellow ...</td>\n",
              "    </tr>\n",
              "    <tr>\n",
              "      <th>...</th>\n",
              "      <td>...</td>\n",
              "      <td>...</td>\n",
              "      <td>...</td>\n",
              "      <td>...</td>\n",
              "    </tr>\n",
              "    <tr>\n",
              "      <th>130</th>\n",
              "      <td>CHE</td>\n",
              "      <td>Shrek</td>\n",
              "      <td>Shrek;Donkey</td>\n",
              "      <td>green skin,horns,balck eyes,grey skin,black m...</td>\n",
              "    </tr>\n",
              "    <tr>\n",
              "      <th>131</th>\n",
              "      <td>CHE</td>\n",
              "      <td>Shrek</td>\n",
              "      <td>Shrek;Donkey</td>\n",
              "      <td>green skin,horns,balck eyes,grey skin,black m...</td>\n",
              "    </tr>\n",
              "    <tr>\n",
              "      <th>132</th>\n",
              "      <td>CHE</td>\n",
              "      <td>Shrek</td>\n",
              "      <td>Shrek;Donkey</td>\n",
              "      <td>green skin,horns,balck eyes,grey skin,black m...</td>\n",
              "    </tr>\n",
              "    <tr>\n",
              "      <th>133</th>\n",
              "      <td>CHE</td>\n",
              "      <td>Shrek</td>\n",
              "      <td>Shrek;Donkey</td>\n",
              "      <td>green skin,horns,balck eyes,grey skin,black m...</td>\n",
              "    </tr>\n",
              "    <tr>\n",
              "      <th>134</th>\n",
              "      <td>BME</td>\n",
              "      <td>Zootopia</td>\n",
              "      <td>Nick Wilde;Bellwether</td>\n",
              "      <td>red skin,green eye,orange hair,white skin,red...</td>\n",
              "    </tr>\n",
              "  </tbody>\n",
              "</table>\n",
              "<p>135 rows × 4 columns</p>\n",
              "</div>\n",
              "      <button class=\"colab-df-convert\" onclick=\"convertToInteractive('df-dd188301-20e8-4975-b547-6ba5b7795d0e')\"\n",
              "              title=\"Convert this dataframe to an interactive table.\"\n",
              "              style=\"display:none;\">\n",
              "        \n",
              "  <svg xmlns=\"http://www.w3.org/2000/svg\" height=\"24px\"viewBox=\"0 0 24 24\"\n",
              "       width=\"24px\">\n",
              "    <path d=\"M0 0h24v24H0V0z\" fill=\"none\"/>\n",
              "    <path d=\"M18.56 5.44l.94 2.06.94-2.06 2.06-.94-2.06-.94-.94-2.06-.94 2.06-2.06.94zm-11 1L8.5 8.5l.94-2.06 2.06-.94-2.06-.94L8.5 2.5l-.94 2.06-2.06.94zm10 10l.94 2.06.94-2.06 2.06-.94-2.06-.94-.94-2.06-.94 2.06-2.06.94z\"/><path d=\"M17.41 7.96l-1.37-1.37c-.4-.4-.92-.59-1.43-.59-.52 0-1.04.2-1.43.59L10.3 9.45l-7.72 7.72c-.78.78-.78 2.05 0 2.83L4 21.41c.39.39.9.59 1.41.59.51 0 1.02-.2 1.41-.59l7.78-7.78 2.81-2.81c.8-.78.8-2.07 0-2.86zM5.41 20L4 18.59l7.72-7.72 1.47 1.35L5.41 20z\"/>\n",
              "  </svg>\n",
              "      </button>\n",
              "      \n",
              "  <style>\n",
              "    .colab-df-container {\n",
              "      display:flex;\n",
              "      flex-wrap:wrap;\n",
              "      gap: 12px;\n",
              "    }\n",
              "\n",
              "    .colab-df-convert {\n",
              "      background-color: #E8F0FE;\n",
              "      border: none;\n",
              "      border-radius: 50%;\n",
              "      cursor: pointer;\n",
              "      display: none;\n",
              "      fill: #1967D2;\n",
              "      height: 32px;\n",
              "      padding: 0 0 0 0;\n",
              "      width: 32px;\n",
              "    }\n",
              "\n",
              "    .colab-df-convert:hover {\n",
              "      background-color: #E2EBFA;\n",
              "      box-shadow: 0px 1px 2px rgba(60, 64, 67, 0.3), 0px 1px 3px 1px rgba(60, 64, 67, 0.15);\n",
              "      fill: #174EA6;\n",
              "    }\n",
              "\n",
              "    [theme=dark] .colab-df-convert {\n",
              "      background-color: #3B4455;\n",
              "      fill: #D2E3FC;\n",
              "    }\n",
              "\n",
              "    [theme=dark] .colab-df-convert:hover {\n",
              "      background-color: #434B5C;\n",
              "      box-shadow: 0px 1px 3px 1px rgba(0, 0, 0, 0.15);\n",
              "      filter: drop-shadow(0px 1px 2px rgba(0, 0, 0, 0.3));\n",
              "      fill: #FFFFFF;\n",
              "    }\n",
              "  </style>\n",
              "\n",
              "      <script>\n",
              "        const buttonEl =\n",
              "          document.querySelector('#df-dd188301-20e8-4975-b547-6ba5b7795d0e button.colab-df-convert');\n",
              "        buttonEl.style.display =\n",
              "          google.colab.kernel.accessAllowed ? 'block' : 'none';\n",
              "\n",
              "        async function convertToInteractive(key) {\n",
              "          const element = document.querySelector('#df-dd188301-20e8-4975-b547-6ba5b7795d0e');\n",
              "          const dataTable =\n",
              "            await google.colab.kernel.invokeFunction('convertToInteractive',\n",
              "                                                     [key], {});\n",
              "          if (!dataTable) return;\n",
              "\n",
              "          const docLinkHtml = 'Like what you see? Visit the ' +\n",
              "            '<a target=\"_blank\" href=https://colab.research.google.com/notebooks/data_table.ipynb>data table notebook</a>'\n",
              "            + ' to learn more about interactive tables.';\n",
              "          element.innerHTML = '';\n",
              "          dataTable['output_type'] = 'display_data';\n",
              "          await google.colab.output.renderOutput(dataTable, element);\n",
              "          const docLink = document.createElement('div');\n",
              "          docLink.innerHTML = docLinkHtml;\n",
              "          element.appendChild(docLink);\n",
              "        }\n",
              "      </script>\n",
              "    </div>\n",
              "  </div>\n",
              "  "
            ]
          },
          "metadata": {},
          "execution_count": 65
        }
      ]
    },
    {
      "cell_type": "markdown",
      "source": [
        "#Processing on DataFrame"
      ],
      "metadata": {
        "id": "WKX7nHrapJHL"
      }
    },
    {
      "cell_type": "code",
      "source": [
        "import nltk \n",
        "nltk.download('punkt')\n",
        "nltk.download('stopwords')\n",
        "from nltk.corpus import stopwords\n",
        "from nltk.tokenize import word_tokenize"
      ],
      "metadata": {
        "colab": {
          "base_uri": "https://localhost:8080/"
        },
        "id": "fNgyb8zU8Agg",
        "outputId": "283c25f2-f96d-4120-eedf-c32be42634fc"
      },
      "execution_count": null,
      "outputs": [
        {
          "output_type": "stream",
          "name": "stderr",
          "text": [
            "[nltk_data] Downloading package punkt to /root/nltk_data...\n",
            "[nltk_data]   Package punkt is already up-to-date!\n",
            "[nltk_data] Downloading package stopwords to /root/nltk_data...\n",
            "[nltk_data]   Package stopwords is already up-to-date!\n"
          ]
        }
      ]
    },
    {
      "cell_type": "code",
      "source": [
        "def getCharacter(sentence):\n",
        "  similarity = 0\n",
        "  character = ''\n",
        "  for k in list(physical_appearance['Appearance']):\n",
        "    X =sentence\n",
        "    Y =k\n",
        "    X_list = word_tokenize(X)\n",
        "    Y_list = word_tokenize(Y)\n",
        "    sw = stopwords.words('english')\n",
        "    l1 =[];l2 =[]\n",
        "    X_set = {w for w in X_list if not w in sw}\n",
        "    Y_set = {w for w in Y_list if not w in sw}\n",
        "    rvector = X_set.union(Y_set)\n",
        "    for w in rvector:\n",
        "      if w in X_set: l1.append(1)\n",
        "      else: l1.append(0)\n",
        "      if w in Y_set: l2.append(1)\n",
        "      else: l2.append(0)\n",
        "    c = 0\n",
        "    for i in range(len(rvector)):\n",
        "        c+= l1[i]*l2[i]\n",
        "    cosine = c / float((sum(l1)*sum(l2))**0.5)\n",
        "    if(similarity<cosine):\n",
        "      similarity = cosine\n",
        "      character = physical_appearance.iloc[list(physical_appearance['Appearance']).index(k)][0]\n",
        "  return character"
      ],
      "metadata": {
        "id": "WLvEY9gi66qg"
      },
      "execution_count": null,
      "outputs": []
    },
    {
      "cell_type": "code",
      "source": [
        "predicted_characters = []\n",
        "for i in range(df.shape[0]):\n",
        "  predicted_characters.append(getCharacter(df.iloc[i][3]))"
      ],
      "metadata": {
        "id": "9ycjhsi572Ta"
      },
      "execution_count": null,
      "outputs": []
    },
    {
      "cell_type": "code",
      "source": [
        "df['Predicted Characters'] = predicted_characters"
      ],
      "metadata": {
        "id": "DMUUMulKFAuD"
      },
      "execution_count": null,
      "outputs": []
    },
    {
      "cell_type": "code",
      "source": [
        "correct=0\n",
        "wrong=0\n",
        "for i in range(df.shape[0]):\n",
        "  if(df.iloc[i][4] in df.iloc[i][2]):\n",
        "    correct+=1\n",
        "  else:\n",
        "    wrong+=1\n",
        "print('Correct:',correct)\n",
        "print('Wrong:',wrong)"
      ],
      "metadata": {
        "colab": {
          "base_uri": "https://localhost:8080/"
        },
        "id": "yfY02lVPF7sZ",
        "outputId": "f22e6047-223e-4857-d67d-6d1905849e5e"
      },
      "execution_count": null,
      "outputs": [
        {
          "output_type": "stream",
          "name": "stdout",
          "text": [
            "Correct: 125\n",
            "Wrong: 10\n"
          ]
        }
      ]
    },
    {
      "cell_type": "code",
      "source": [
        "model_accuracy = correct/(correct+wrong)\n",
        "model_accuracy"
      ],
      "metadata": {
        "colab": {
          "base_uri": "https://localhost:8080/"
        },
        "id": "637Zo9Wsn7pC",
        "outputId": "e70500cc-195b-4ef2-9072-9a1d10514902"
      },
      "execution_count": null,
      "outputs": [
        {
          "output_type": "execute_result",
          "data": {
            "text/plain": [
              "0.9259259259259259"
            ]
          },
          "metadata": {},
          "execution_count": 71
        }
      ]
    },
    {
      "cell_type": "code",
      "source": [
        "temp = list(df['Branch'])\n",
        "temp = set(temp)"
      ],
      "metadata": {
        "id": "jAokFZhuHZ0r"
      },
      "execution_count": null,
      "outputs": []
    },
    {
      "cell_type": "code",
      "source": [
        "records = []\n",
        "coe = pd.DataFrame()\n",
        "ece = pd.DataFrame()\n",
        "che = pd.DataFrame()\n",
        "bme = pd.DataFrame()\n",
        "mec = pd.DataFrame()\n",
        "for branch in temp:\n",
        "  for i in range(df.shape[0]):\n",
        "    if(branch == df.loc[i][0]):\n",
        "      records.append(df.loc[i])\n",
        "      if (branch == 'COE'):\n",
        "        coe = pd.DataFrame(records)\n",
        "      elif (branch == 'ECE'):\n",
        "        ece = pd.DataFrame(records)\n",
        "      elif (branch == 'CHE'):\n",
        "        che = pd.DataFrame(records)\n",
        "      elif (branch == 'BME'):\n",
        "        bme = pd.DataFrame(records)\n",
        "      elif (branch == 'MEC'):\n",
        "        mec = pd.DataFrame(records)\n",
        "  records=[]"
      ],
      "metadata": {
        "id": "XvpTM1bLG45u"
      },
      "execution_count": null,
      "outputs": []
    },
    {
      "cell_type": "code",
      "source": [
        "coe = coe.drop(['Branch'],axis=1)\n",
        "mec = mec.drop(['Branch'],axis=1)\n",
        "ece = ece.drop(['Branch'],axis=1)\n",
        "che = che.drop(['Branch'],axis=1)\n",
        "bme = bme.drop(['Branch'],axis=1)"
      ],
      "metadata": {
        "id": "tip2cQKbHViS"
      },
      "execution_count": null,
      "outputs": []
    },
    {
      "cell_type": "markdown",
      "source": [
        "#Branch-wise Output"
      ],
      "metadata": {
        "id": "9urRomS0XSql"
      }
    },
    {
      "cell_type": "code",
      "source": [
        "def getlnk(name,skin,hat,glasses,eye,hair,misc):\n",
        "  url = 'https://model-results.herokuapp.com/name='+name+'&skincolor='+skin+'&hat='+hat+'&glasses='+glasses+'&eye='+eye+'&misc='+misc+'&hair='+hair\n",
        "  return url"
      ],
      "metadata": {
        "id": "pCCmSdPGu1wC"
      },
      "execution_count": null,
      "outputs": []
    },
    {
      "cell_type": "code",
      "source": [
        "def getfinallnk(character):\n",
        "  for i in range(final_personality.shape[0]):\n",
        "    if final_personality.iloc[i][0] == character:\n",
        "      return getlnk(character.lower(),final_personality.iloc[i][1].lower(),final_personality.iloc[i][2].lower(),final_personality.iloc[i][3].lower(),final_personality.iloc[i][4].lower(),final_personality.iloc[i][5].lower(),final_personality.iloc[i][6].lower())"
      ],
      "metadata": {
        "id": "aZG6FbzMyOxZ"
      },
      "execution_count": null,
      "outputs": []
    },
    {
      "cell_type": "code",
      "source": [
        "pred = list(coe['Predicted Characters'])\n",
        "unique = list(set(pred))\n",
        "count = []\n",
        "for character in unique:\n",
        "  count.append(pred.count(character))\n",
        "final_coe_char = unique[count.index(max(count))]\n",
        "print(\"The character assigned to COE is:\",final_coe_char)\n",
        "print(getfinallnk(final_coe_char))"
      ],
      "metadata": {
        "colab": {
          "base_uri": "https://localhost:8080/"
        },
        "id": "A8zw7yqUHtJX",
        "outputId": "96be7e75-555e-4a7c-dcef-8cb14dbdbb95"
      },
      "execution_count": null,
      "outputs": [
        {
          "output_type": "stream",
          "name": "stdout",
          "text": [
            "The character assigned to COE is: Hiro Hamada\n",
            "https://model-results.herokuapp.com/name=hiro hamada&skincolor=fair&hat=none&glasses=none&eye=brown &misc=blue hoodie jacket, red shirt,&hair=black\n"
          ]
        }
      ]
    },
    {
      "cell_type": "code",
      "source": [
        "pred = list(mec['Predicted Characters'])\n",
        "unique = list(set(pred))\n",
        "count = []\n",
        "for character in unique:\n",
        "  count.append(pred.count(character))\n",
        "print(\"The character assigned to MEC is:\",unique[count.index(max(count))])\n",
        "print(getfinallnk(unique[count.index(max(count))]))"
      ],
      "metadata": {
        "colab": {
          "base_uri": "https://localhost:8080/"
        },
        "outputId": "e0144247-938f-41ff-97fa-412a9d0820cc",
        "id": "gPeQ0KGFLN4p"
      },
      "execution_count": null,
      "outputs": [
        {
          "output_type": "stream",
          "name": "stdout",
          "text": [
            "The character assigned to MEC is: Disgust\n",
            "https://model-results.herokuapp.com/name=disgust&skincolor=green &hat=none&glasses=none&eye=green &misc=spring green dress without sleeves, pink scarf tied around her neck,&hair=green\n"
          ]
        }
      ]
    },
    {
      "cell_type": "code",
      "source": [
        "pred = list(ece['Predicted Characters'])\n",
        "unique = list(set(pred))\n",
        "count = []\n",
        "for character in unique:\n",
        "  count.append(pred.count(character))\n",
        "print(\"The character assigned to ECE is:\",unique[count.index(max(count))])\n",
        "print(getfinallnk(unique[count.index(max(count))]))"
      ],
      "metadata": {
        "colab": {
          "base_uri": "https://localhost:8080/"
        },
        "outputId": "2d238bde-cea6-4fc9-e73f-af7f637fb11b",
        "id": "iWo73h3bLNW-"
      },
      "execution_count": null,
      "outputs": [
        {
          "output_type": "stream",
          "name": "stdout",
          "text": [
            "The character assigned to ECE is: Joy\n",
            "https://model-results.herokuapp.com/name=joy&skincolor=yellow&hat=none&glasses=none&eye=blue&misc= lime green dress, speckled with blue firework-style flowers&hair=blue\n"
          ]
        }
      ]
    },
    {
      "cell_type": "code",
      "source": [
        "pred = list(che['Predicted Characters'])\n",
        "unique = list(set(pred))\n",
        "count = []\n",
        "for character in unique:\n",
        "  count.append(pred.count(character))\n",
        "print(\"The character assigned to CHE is:\",unique[count.index(max(count))])\n",
        "print(getfinallnk(unique[count.index(max(count))]))"
      ],
      "metadata": {
        "colab": {
          "base_uri": "https://localhost:8080/"
        },
        "outputId": "3fc41a4b-b41b-45c1-b49f-5660c5f993df",
        "id": "o1pR4cPlLU9U"
      },
      "execution_count": null,
      "outputs": [
        {
          "output_type": "stream",
          "name": "stdout",
          "text": [
            "The character assigned to CHE is: Donkey\n",
            "https://model-results.herokuapp.com/name=donkey&skincolor=grey&hat=black mane&glasses=none&eye=brown &misc=none&hair=black\n"
          ]
        }
      ]
    },
    {
      "cell_type": "code",
      "source": [
        "pred = list(bme['Predicted Characters'])\n",
        "unique = list(set(pred))\n",
        "count = []\n",
        "for character in unique:\n",
        "  count.append(pred.count(character))\n",
        "print(\"The character assigned to BME is:\",unique[count.index(max(count))])\n",
        "print(getfinallnk(unique[count.index(max(count))]))"
      ],
      "metadata": {
        "colab": {
          "base_uri": "https://localhost:8080/"
        },
        "outputId": "7fe19a1c-1a08-42ce-c863-bb40a7b5fb12",
        "id": "W9c5hlA-LXxA"
      },
      "execution_count": null,
      "outputs": [
        {
          "output_type": "stream",
          "name": "stdout",
          "text": [
            "The character assigned to BME is: Nick Wilde\n",
            "https://model-results.herokuapp.com/name=nick wilde&skincolor=red&hat=none&glasses=none&eye=green&misc=light green hawaiian shirt, dark indigo necktie with red and blue stripes, grayish-tan pants&hair=orange\n"
          ]
        }
      ]
    }
  ]
}